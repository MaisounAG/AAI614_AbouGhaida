{
 "cells": [
  {
   "cell_type": "markdown",
   "metadata": {
    "id": "leASMkfskyKy"
   },
   "source": [
    "\n",
    "# AAI614: Data Science & its Applications\n",
    "\n",
    "\n",
    "*Notebook 1.0: Using Jupyter Lab or Notebook*\n",
    "\n",
    "<a href=\"https://colab.research.google.com/github/harmanani/AAI614/blob/main/Week1/Notebook1.0.ipynb\" target=\"_parent\"><img src=\"https://colab.research.google.com/assets/colab-badge.svg\" alt=\"Open In Colab\"/></a>"
   ]
  },
  {
   "cell_type": "markdown",
   "metadata": {
    "id": "r96qpB8dkyKz"
   },
   "source": [
    "A *Jupyter Notebook* is based on a client-server application that allows users to create, edit, and run notebooks via a **web browser**. A *notebook* is an executable document that is used for interactive development.  *Jupyter Notebook* runs on a computer (Linux, MacOS, or Windows) without Internet access.  It can be also installed on a remote server where it can accessed through the Internet.  A Jupyter Notebook is an essential tool that is being used by data scientists and machine learning engineers.  It is essentiual that you get get accustomed with the various commands in Jupyter prior to embarking on coding in Python for data science.   Let us walk thorugh these commands and see how this can be used.\n",
    "\n",
    "*Jupyter Notebook* has two main components: the kernels and the dashboard.  The **kernel** is a program that runs and introspects the user’s code. In our case, the kernel will interpret Python code, but there are also kernels available for other programming languages.  The **dashboard** shows the notebook documents that we create.  "
   ]
  },
  {
   "cell_type": "markdown",
   "metadata": {
    "id": "VDO4BkBjkyK0"
   },
   "source": [
    "A notebook consists of cells.   A cell can be either a **code cell** or a **markdown cell**."
   ]
  },
  {
   "cell_type": "markdown",
   "metadata": {
    "id": "jl1rLorgkyK0"
   },
   "source": [
    "A code cell contains actual code that we would like to execute.  We can either specify a cell as a *code cell* using the pulldown menu in the toolbar  or using the the short cut is **Esc - y**.  A code is executed by hitting Enter while holding down the Shift key (denoted **Shift + Enter**).  Code cells are executed in the order we **Shift+Enter** them. A markdown cell uses **markdown** which is a lightweight Markup language with a plain text syntax that was developed by John Gruber in 2004.  Markdown is designed to be as easy-to-read and easy-to-write as possible.  In fact, this cell uses markup.  We will not be able to go over the markdown language at length but it is recommended that you do.  Let us see an example on how we use *code cells* and *markdown cells.*"
   ]
  },
  {
   "cell_type": "markdown",
   "metadata": {
    "id": "pyfBPZMgkyK0"
   },
   "source": [
    "## Starting Jupyter Notebooks"
   ]
  },
  {
   "cell_type": "markdown",
   "metadata": {
    "id": "f5xrygmMkyK0"
   },
   "source": [
    "If you would like to use *Jupyter Notebook* on your own PC, run the following command:"
   ]
  },
  {
   "cell_type": "markdown",
   "metadata": {
    "id": "hCR1E45EkyK0"
   },
   "source": [
    "<blockquote> jupyter notebook"
   ]
  },
  {
   "cell_type": "markdown",
   "metadata": {
    "id": "l0CQE35ikyK1"
   },
   "source": [
    "You would see the following address: http://localhost:8888 at the browser tab as shown below: ![image.png](attachment:94c23646-bbfd-45e2-8fc9-1ddaf5aa730d.png)"
   ]
  },
  {
   "cell_type": "markdown",
   "metadata": {
    "id": "rJTBc25mkyK1"
   },
   "source": [
    "## Let us try it out"
   ]
  },
  {
   "cell_type": "markdown",
   "metadata": {
    "id": "FTWZkUkPkyK1"
   },
   "source": [
    "A markdown cell is typically used to document the code and explain the steps.  They can be also used to analyze the results.  let us see the below examples:"
   ]
  },
  {
   "cell_type": "markdown",
   "metadata": {
    "id": "zpubHjfHkyK1"
   },
   "source": [
    "Let us start by importing the needed *numpy* and *matplotlib*"
   ]
  },
  {
   "cell_type": "code",
   "execution_count": null,
   "metadata": {
    "id": "qURMWGY9kyK1"
   },
   "outputs": [],
   "source": [
    "import numpy as np\n",
    "from numpy.polynomial.polynomial import polyfit\n",
    "import matplotlib.pyplot as plt"
   ]
  },
  {
   "cell_type": "markdown",
   "metadata": {
    "id": "XZDsbjHDkyK1"
   },
   "source": [
    "Let us try to *linearly* fit a set of data points using $\\hat{y} = x * m + b$ (notice the look if the equation).  This means we need to determine the appropriate valuye for **b** and **m**:\n"
   ]
  },
  {
   "cell_type": "code",
   "execution_count": null,
   "metadata": {
    "id": "Rtd9Dl2YkyK2"
   },
   "outputs": [],
   "source": [
    "b = 14.45 # 14.45  # -2 to start, change me please\n",
    "m = 5.12 # 5.12  # 40 to start, change me please"
   ]
  },
  {
   "cell_type": "markdown",
   "metadata": {
    "id": "12RESPgWkyK2"
   },
   "source": [
    "Let us use the following sample data:"
   ]
  },
  {
   "cell_type": "code",
   "execution_count": null,
   "metadata": {
    "id": "SxEUq28mkyK2"
   },
   "outputs": [],
   "source": [
    "x = np.array([ 0,  1,  2,  3,  4,  5,  6,  7,  8,  9])\n",
    "y = np.array([10, 20, 25, 30, 40, 45, 40, 50, 60, 55])\n",
    "y_hat = x * m + b"
   ]
  },
  {
   "cell_type": "markdown",
   "metadata": {
    "id": "NVxEBYe1kyK2"
   },
   "source": [
    "Let us see how the line fits using a plot:"
   ]
  },
  {
   "cell_type": "code",
   "execution_count": null,
   "metadata": {
    "colab": {
     "base_uri": "https://localhost:8080/",
     "height": 430
    },
    "id": "6pKycjLtkyK2",
    "outputId": "4efe59e7-71ab-44f7-a7ef-e2543bfde029"
   },
   "outputs": [],
   "source": [
    "plt.plot(x, y, '.')\n",
    "plt.plot(x, y_hat, '-')\n",
    "plt.show()"
   ]
  },
  {
   "cell_type": "markdown",
   "metadata": {
    "id": "LegoBr7PkyK2"
   },
   "source": [
    "Let us see what the loss is:"
   ]
  },
  {
   "cell_type": "code",
   "execution_count": null,
   "metadata": {
    "colab": {
     "base_uri": "https://localhost:8080/"
    },
    "id": "XudHC4jKkyK2",
    "outputId": "069f336f-24b0-422e-a3c8-446aed040aa9"
   },
   "outputs": [],
   "source": [
    "print(\"Loss:\", np.sum((y - y_hat)**2)/len(x))"
   ]
  },
  {
   "cell_type": "markdown",
   "metadata": {
    "id": "r9fKEjmakyK2"
   },
   "source": [
    "Now, let us determine a and b automtically using the Python function **polyfit**:"
   ]
  },
  {
   "cell_type": "code",
   "execution_count": null,
   "metadata": {
    "colab": {
     "base_uri": "https://localhost:8080/"
    },
    "id": "Wq6qmccWkyK2",
    "outputId": "c3ed9a9b-c80e-49e6-a1ab-07f5b15a07fc"
   },
   "outputs": [],
   "source": [
    "model = polyfit(x,y,1)\n",
    "print(model)"
   ]
  },
  {
   "cell_type": "markdown",
   "metadata": {
    "id": "dQsHhE7PkyK2"
   },
   "source": [
    "Try it again using the above values and see what happens!"
   ]
  },
  {
   "cell_type": "markdown",
   "metadata": {
    "id": "Bvpv_0ptkyK2"
   },
   "source": [
    "# Before we go, let's talk about magic functions!"
   ]
  },
  {
   "cell_type": "markdown",
   "metadata": {
    "id": "pjWi0fiVkyK3"
   },
   "source": [
    "## Running External Code: ``%run``\n",
    "As you begin developing more extensive code, you will likely find yourself working in both IPython for interactive exploration, as well as a text editor to store code that you want to reuse.\n",
    "Rather than running this code in a new window, it can be convenient to run it within your IPython session.\n",
    "This can be done with the ``%run`` magic.\n",
    "\n",
    "For example, imagine you've created a ``myscript.py`` file with the following contents:\n",
    "\n",
    "```python\n",
    "#-------------------------------------\n",
    "# file: myscript.py\n",
    "\n",
    "def square(x):\n",
    "    \"\"\"square a number\"\"\"\n",
    "    return x ** 2\n",
    "\n",
    "for N in range(1, 4):\n",
    "    print(N, \"squared is\", square(N))\n",
    "```\n",
    "\n",
    "You can execute this from your IPython session as follows:\n",
    "\n",
    "```ipython\n",
    "In [6]: %run myscript.py\n",
    "1 squared is 1\n",
    "2 squared is 4\n",
    "3 squared is 9\n",
    "```\n",
    "\n",
    "Note also that after you've run this script, any functions defined within it are available for use in your IPython session:\n",
    "\n",
    "```ipython\n",
    "In [7]: square(5)\n",
    "Out[7]: 25\n",
    "```\n",
    "\n",
    "There are several options to fine-tune how your code is run; you can see the documentation in the normal way, by typing **``%run?``** in the IPython interpreter."
   ]
  },
  {
   "cell_type": "markdown",
   "metadata": {
    "id": "JPFe6lhDkyK3"
   },
   "source": [
    "## Timing: %timeit"
   ]
  },
  {
   "cell_type": "markdown",
   "metadata": {
    "id": "nJd2WLAekyK3"
   },
   "source": [
    "The %timeit times the execution of a Python statement or expression."
   ]
  },
  {
   "cell_type": "code",
   "execution_count": null,
   "metadata": {
    "colab": {
     "base_uri": "https://localhost:8080/"
    },
    "id": "uHR1wyvdkyK3",
    "outputId": "32b114a5-9d5b-44e0-b610-3ec59c5270f0"
   },
   "outputs": [],
   "source": [
    "%timeit sum(range(100))"
   ]
  },
  {
   "cell_type": "markdown",
   "metadata": {
    "id": "BhfXIh7ckyK3"
   },
   "source": [
    "Another more complex example:"
   ]
  },
  {
   "cell_type": "code",
   "execution_count": null,
   "metadata": {
    "colab": {
     "base_uri": "https://localhost:8080/"
    },
    "id": "GngxqA_RkyK3",
    "outputId": "57931db6-fc87-4ace-e5a2-8b0856d52595"
   },
   "outputs": [],
   "source": [
    "%%timeit\n",
    "total = 0\n",
    "for i in range(1000):\n",
    "    for j in range(1000):\n",
    "        total += i * (-1) ** j"
   ]
  },
  {
   "cell_type": "markdown",
   "metadata": {
    "id": "8IiKFRu6kyK3"
   },
   "source": [
    "## Profiling Full Scripts: %prun"
   ]
  },
  {
   "cell_type": "markdown",
   "metadata": {
    "id": "kBhMXtEukyK3"
   },
   "source": [
    "%prun allows the programmer to use a profiler.  Let us see a quick example by defining a simple function that does some calculations:"
   ]
  },
  {
   "cell_type": "code",
   "execution_count": null,
   "metadata": {
    "id": "2mgMP0-UkyK3"
   },
   "outputs": [],
   "source": [
    "def sum_of_lists(N):\n",
    "    total = 0\n",
    "    for i in range(5):\n",
    "        L = [j ^ (j >> i) for j in range(N)]\n",
    "        total += sum(L)\n",
    "    return total"
   ]
  },
  {
   "cell_type": "code",
   "execution_count": null,
   "metadata": {
    "colab": {
     "base_uri": "https://localhost:8080/"
    },
    "id": "84782jYDkyK3",
    "outputId": "dd1d529d-213b-4e81-85a0-8afcb3706228"
   },
   "outputs": [],
   "source": [
    "%prun sum_of_lists(1000000)"
   ]
  },
  {
   "cell_type": "markdown",
   "metadata": {
    "id": "mDrXWbYskyK3"
   },
   "source": [
    "The above result is a table that indicates, in order of total time on each function call, where the execution is spending the most time. In this case, the bulk of execution time is in the list comprehension inside sum_of_lists. From here, we could start thinking about what changes we might make to improve the performance in the algorithm."
   ]
  },
  {
   "cell_type": "markdown",
   "metadata": {
    "id": "48mrxGHzkyK3"
   },
   "source": [
    "## Writing the Content of a Cell to a File: %%writefile"
   ]
  },
  {
   "cell_type": "markdown",
   "metadata": {
    "id": "jYDlI5r9kyK3"
   },
   "source": [
    "What if you want to write the content of a cell to a file?  Easy.  We can use the **%%writefile** magic function.  Make sure it is the first line in the cell!"
   ]
  },
  {
   "cell_type": "code",
   "execution_count": null,
   "metadata": {
    "colab": {
     "base_uri": "https://localhost:8080/"
    },
    "id": "4AByo3R6kyK3",
    "outputId": "76adee5f-9173-4349-f9ee-0d75f67a2492"
   },
   "outputs": [],
   "source": [
    "%%writefile sum_of_lists.py\n",
    "def sum_of_lists(N):\n",
    "    total = 0\n",
    "    for i in range(5):\n",
    "        L = [j ^ (j >> i) for j in range(N)]\n",
    "        total += sum(L)\n",
    "    return total"
   ]
  },
  {
   "cell_type": "markdown",
   "metadata": {
    "id": "CO347hOfkyK4"
   },
   "source": [
    "The above example writes the content of a cell to the file **sum_of_lists.py**"
   ]
  },
  {
   "cell_type": "markdown",
   "metadata": {
    "id": "5GfZtXFnkyK8"
   },
   "source": [
    "## Help on Magic Functions: ``?``, ``%magic``, and ``%lsmagic``"
   ]
  },
  {
   "cell_type": "markdown",
   "metadata": {
    "id": "7pNk7ErgkyK8"
   },
   "source": [
    "For a quick and simple list of all available magic functions, type this:"
   ]
  },
  {
   "cell_type": "code",
   "execution_count": null,
   "metadata": {
    "colab": {
     "base_uri": "https://localhost:8080/",
     "height": 1000
    },
    "id": "fkU5CqlrkyK8",
    "outputId": "e93a94ce-533d-4b1d-8bdc-e71ce2468e5c"
   },
   "outputs": [],
   "source": [
    "%lsmagic"
   ]
  },
  {
   "cell_type": "markdown",
   "metadata": {
    "id": "9j2HOSlKkyK8"
   },
   "source": [
    "If all fails, you can get help using the IPython magic functions docstrings, and this useful\n",
    "documentation can be accessed in the standard manner.  So, for example, to read the documentation of the ``%timeit`` magic simply type this:"
   ]
  },
  {
   "cell_type": "code",
   "execution_count": null,
   "metadata": {
    "id": "-0FvYS3pkyK8"
   },
   "outputs": [],
   "source": [
    "%timeit?"
   ]
  },
  {
   "cell_type": "markdown",
   "metadata": {
    "id": "o8vdUZ0LkyK9"
   },
   "source": [
    "Documentation for other functions can be accessed similarly.  To access a general description of available magic functions, including some examples, you can type this:"
   ]
  },
  {
   "cell_type": "code",
   "execution_count": null,
   "metadata": {
    "id": "UN408PfwkyK9"
   },
   "outputs": [],
   "source": [
    "%magic"
   ]
  }
 ],
 "metadata": {
  "colab": {
   "provenance": []
  },
  "kernelspec": {
   "display_name": "Python 3 (ipykernel)",
   "language": "python",
   "name": "python3"
  },
  "language_info": {
   "codemirror_mode": {
    "name": "ipython",
    "version": 3
   },
   "file_extension": ".py",
   "mimetype": "text/x-python",
   "name": "python",
   "nbconvert_exporter": "python",
   "pygments_lexer": "ipython3",
   "version": "3.12.5"
  }
 },
 "nbformat": 4,
 "nbformat_minor": 4
}
